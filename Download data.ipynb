{
 "cells": [
  {
   "cell_type": "markdown",
   "metadata": {},
   "source": [
    "Download Data \n",
    "<small>\n",
    "\n",
    "This notebook downloads the required data for the project:\n",
    "- Price and Volume data from Yahoo Finance\n",
    "- Short Interest data from FINRA\n",
    "- Market Cap data from Financial Modeling Prep\n",
    "\n",
    "The additional data (risk-free rate and benchmark information) are downloaded manually\n",
    "<small/>"
   ]
  },
  {
   "cell_type": "code",
   "execution_count": 2,
   "metadata": {},
   "outputs": [],
   "source": [
    "from utils import config\n",
    "from utils.data_downloader import (\n",
    "    PriceVolumeDownloader,\n",
    "    ShortInterestDownloader,\n",
    "    MarketCapDownloader\n",
    ")"
   ]
  },
  {
   "cell_type": "code",
   "execution_count": null,
   "metadata": {},
   "outputs": [],
   "source": [
    "symbols = config.spy_constituents\n",
    "\n",
    "# Download Price and Volume Data\n",
    "PriceVolumeDownloader().download(symbols)\n",
    "\n",
    "# Download Short Interest Data\n",
    "ShortInterestDownloader().download(symbols)\n",
    "\n",
    "# Download Market Cap Data\n",
    "MarketCapDownloader().download(symbols)"
   ]
  }
 ],
 "metadata": {
  "kernelspec": {
   "display_name": "NLP",
   "language": "python",
   "name": "python3"
  },
  "language_info": {
   "codemirror_mode": {
    "name": "ipython",
    "version": 3
   },
   "file_extension": ".py",
   "mimetype": "text/x-python",
   "name": "python",
   "nbconvert_exporter": "python",
   "pygments_lexer": "ipython3",
   "version": "3.11.7"
  }
 },
 "nbformat": 4,
 "nbformat_minor": 2
}
